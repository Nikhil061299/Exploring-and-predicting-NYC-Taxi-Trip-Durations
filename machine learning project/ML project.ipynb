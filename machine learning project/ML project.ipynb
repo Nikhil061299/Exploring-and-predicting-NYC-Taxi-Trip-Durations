{
 "cells": [
  {
   "cell_type": "markdown",
   "id": "adf3452a",
   "metadata": {},
   "source": [
    "## Problem Statement\n",
    "\n",
    "At some point or the other almost each one of us has used an Ola or Uber for taking a ride. \n",
    "\n",
    "Ride hailing services are services that use online-enabled platforms to connect between passengers and local drivers using their personal vehicles. In most cases they are a comfortable method for door-to-door transport. Usually they are cheaper than using licensed taxicabs. Examples of ride hailing services include Uber and Lyft.\n",
    "\n",
    "To improve the efficiency of taxi dispatching systems for such services, it is important to be able to predict how long a driver will have his taxi occupied. If a dispatcher knew approximately when a taxi driver would be ending their current ride, they would be better able to identify which driver to assign to each pickup request.\n",
    "\n",
    "In this competition, we are challenged to build a model that predicts the total ride duration of taxi trips in New York City."
   ]
  },
  {
   "cell_type": "markdown",
   "id": "4c44a7b0",
   "metadata": {},
   "source": [
    "## 1. Exploratory Data Analysis\n",
    "Let's check the data files! According to the data description we should find the following columns:\n",
    "\n",
    " - **id** - a unique identifier for each trip\n",
    " - **vendor_id** - a code indicating the provider associated with the trip record\n",
    " - **pickup_datetime** - date and time when the meter was engaged\n",
    " - **dropoff_datetime** - date and time when the meter was disengaged\n",
    " - **passenger_count** - the number of passengers in the vehicle (driver entered value)\n",
    " - **pickup_longitude** - the longitude where the meter was engaged\n",
    " - **pickup_latitude** - the latitude where the meter was engaged\n",
    " - **dropoff_longitude** - the longitude where the meter was disengaged\n",
    " - **dropoff_latitude** - the latitude where the meter was disengaged\n",
    " - **store_and_fwd_flag** - This flag indicates whether the trip record was held in vehicle memory before sending to the vendor because the vehicle did not have a connection to the server (Y=store and forward; N=not a store and forward trip)\n",
    " - **trip_duration** - (target) duration of the trip in seconds\n",
    " \n",
    " \n",
    " \n",
    " \n",
    " \n",
    " \n",
    " \n",
    " "
   ]
  },
  {
   "cell_type": "markdown",
   "id": "06ec7bb5",
   "metadata": {},
   "source": [
    "## data exploration"
   ]
  },
  {
   "cell_type": "markdown",
   "id": "913301de",
   "metadata": {},
   "source": [
    "## 1.1 Load Libraries"
   ]
  },
  {
   "cell_type": "code",
   "execution_count": 1,
   "id": "1648471c",
   "metadata": {},
   "outputs": [],
   "source": [
    "%matplotlib inline\n",
    "import numpy as np\n",
    "import pandas as pd\n",
    "from datetime import timedelta\n",
    "import datetime as dt\n",
    "import matplotlib.pyplot as plt\n",
    "import seaborn as sns\n",
    "from sklearn.model_selection import train_test_split\n",
    "from sklearn.preprocessing import MinMaxScaler\n",
    "from sklearn.neighbors import KNeighborsRegressor\n",
    "from sklearn.linear_model import LinearRegression\n",
    "from sklearn.tree import DecisionTreeRegressor\n",
    "from math import sqrt\n",
    "import warnings\n",
    "warnings.filterwarnings('ignore')"
   ]
  },
  {
   "cell_type": "markdown",
   "id": "c8f8aa38",
   "metadata": {},
   "source": [
    "## Load Data"
   ]
  },
  {
   "cell_type": "code",
   "execution_count": 2,
   "id": "72c683bd",
   "metadata": {},
   "outputs": [],
   "source": [
    "data = pd.read_csv(\"nyc_taxi_trip_duration.csv\")"
   ]
  },
  {
   "cell_type": "code",
   "execution_count": 3,
   "id": "9cb8f83c",
   "metadata": {},
   "outputs": [
    {
     "data": {
      "text/html": [
       "<div>\n",
       "<style scoped>\n",
       "    .dataframe tbody tr th:only-of-type {\n",
       "        vertical-align: middle;\n",
       "    }\n",
       "\n",
       "    .dataframe tbody tr th {\n",
       "        vertical-align: top;\n",
       "    }\n",
       "\n",
       "    .dataframe thead th {\n",
       "        text-align: right;\n",
       "    }\n",
       "</style>\n",
       "<table border=\"1\" class=\"dataframe\">\n",
       "  <thead>\n",
       "    <tr style=\"text-align: right;\">\n",
       "      <th></th>\n",
       "      <th>id</th>\n",
       "      <th>vendor_id</th>\n",
       "      <th>pickup_datetime</th>\n",
       "      <th>dropoff_datetime</th>\n",
       "      <th>passenger_count</th>\n",
       "      <th>pickup_longitude</th>\n",
       "      <th>pickup_latitude</th>\n",
       "      <th>dropoff_longitude</th>\n",
       "      <th>dropoff_latitude</th>\n",
       "      <th>store_and_fwd_flag</th>\n",
       "      <th>trip_duration</th>\n",
       "    </tr>\n",
       "  </thead>\n",
       "  <tbody>\n",
       "    <tr>\n",
       "      <th>0</th>\n",
       "      <td>id1080784</td>\n",
       "      <td>2</td>\n",
       "      <td>2016-02-29 16:40:21</td>\n",
       "      <td>2016-02-29 16:47:01</td>\n",
       "      <td>1</td>\n",
       "      <td>-73.953918</td>\n",
       "      <td>40.778873</td>\n",
       "      <td>-73.963875</td>\n",
       "      <td>40.771164</td>\n",
       "      <td>N</td>\n",
       "      <td>400</td>\n",
       "    </tr>\n",
       "    <tr>\n",
       "      <th>1</th>\n",
       "      <td>id0889885</td>\n",
       "      <td>1</td>\n",
       "      <td>2016-03-11 23:35:37</td>\n",
       "      <td>2016-03-11 23:53:57</td>\n",
       "      <td>2</td>\n",
       "      <td>-73.988312</td>\n",
       "      <td>40.731743</td>\n",
       "      <td>-73.994751</td>\n",
       "      <td>40.694931</td>\n",
       "      <td>N</td>\n",
       "      <td>1100</td>\n",
       "    </tr>\n",
       "    <tr>\n",
       "      <th>2</th>\n",
       "      <td>id0857912</td>\n",
       "      <td>2</td>\n",
       "      <td>2016-02-21 17:59:33</td>\n",
       "      <td>2016-02-21 18:26:48</td>\n",
       "      <td>2</td>\n",
       "      <td>-73.997314</td>\n",
       "      <td>40.721458</td>\n",
       "      <td>-73.948029</td>\n",
       "      <td>40.774918</td>\n",
       "      <td>N</td>\n",
       "      <td>1635</td>\n",
       "    </tr>\n",
       "    <tr>\n",
       "      <th>3</th>\n",
       "      <td>id3744273</td>\n",
       "      <td>2</td>\n",
       "      <td>2016-01-05 09:44:31</td>\n",
       "      <td>2016-01-05 10:03:32</td>\n",
       "      <td>6</td>\n",
       "      <td>-73.961670</td>\n",
       "      <td>40.759720</td>\n",
       "      <td>-73.956779</td>\n",
       "      <td>40.780628</td>\n",
       "      <td>N</td>\n",
       "      <td>1141</td>\n",
       "    </tr>\n",
       "    <tr>\n",
       "      <th>4</th>\n",
       "      <td>id0232939</td>\n",
       "      <td>1</td>\n",
       "      <td>2016-02-17 06:42:23</td>\n",
       "      <td>2016-02-17 06:56:31</td>\n",
       "      <td>1</td>\n",
       "      <td>-74.017120</td>\n",
       "      <td>40.708469</td>\n",
       "      <td>-73.988182</td>\n",
       "      <td>40.740631</td>\n",
       "      <td>N</td>\n",
       "      <td>848</td>\n",
       "    </tr>\n",
       "  </tbody>\n",
       "</table>\n",
       "</div>"
      ],
      "text/plain": [
       "          id  vendor_id      pickup_datetime     dropoff_datetime  \\\n",
       "0  id1080784          2  2016-02-29 16:40:21  2016-02-29 16:47:01   \n",
       "1  id0889885          1  2016-03-11 23:35:37  2016-03-11 23:53:57   \n",
       "2  id0857912          2  2016-02-21 17:59:33  2016-02-21 18:26:48   \n",
       "3  id3744273          2  2016-01-05 09:44:31  2016-01-05 10:03:32   \n",
       "4  id0232939          1  2016-02-17 06:42:23  2016-02-17 06:56:31   \n",
       "\n",
       "   passenger_count  pickup_longitude  pickup_latitude  dropoff_longitude  \\\n",
       "0                1        -73.953918        40.778873         -73.963875   \n",
       "1                2        -73.988312        40.731743         -73.994751   \n",
       "2                2        -73.997314        40.721458         -73.948029   \n",
       "3                6        -73.961670        40.759720         -73.956779   \n",
       "4                1        -74.017120        40.708469         -73.988182   \n",
       "\n",
       "   dropoff_latitude store_and_fwd_flag  trip_duration  \n",
       "0         40.771164                  N            400  \n",
       "1         40.694931                  N           1100  \n",
       "2         40.774918                  N           1635  \n",
       "3         40.780628                  N           1141  \n",
       "4         40.740631                  N            848  "
      ]
     },
     "execution_count": 3,
     "metadata": {},
     "output_type": "execute_result"
    }
   ],
   "source": [
    "data.head()"
   ]
  },
  {
   "cell_type": "code",
   "execution_count": 4,
   "id": "89bd1ad1",
   "metadata": {},
   "outputs": [
    {
     "name": "stdout",
     "output_type": "stream",
     "text": [
      "<class 'pandas.core.frame.DataFrame'>\n",
      "RangeIndex: 729322 entries, 0 to 729321\n",
      "Data columns (total 11 columns):\n",
      " #   Column              Non-Null Count   Dtype  \n",
      "---  ------              --------------   -----  \n",
      " 0   id                  729322 non-null  object \n",
      " 1   vendor_id           729322 non-null  int64  \n",
      " 2   pickup_datetime     729322 non-null  object \n",
      " 3   dropoff_datetime    729322 non-null  object \n",
      " 4   passenger_count     729322 non-null  int64  \n",
      " 5   pickup_longitude    729322 non-null  float64\n",
      " 6   pickup_latitude     729322 non-null  float64\n",
      " 7   dropoff_longitude   729322 non-null  float64\n",
      " 8   dropoff_latitude    729322 non-null  float64\n",
      " 9   store_and_fwd_flag  729322 non-null  object \n",
      " 10  trip_duration       729322 non-null  int64  \n",
      "dtypes: float64(4), int64(3), object(4)\n",
      "memory usage: 61.2+ MB\n"
     ]
    }
   ],
   "source": [
    "data.info()"
   ]
  },
  {
   "cell_type": "markdown",
   "id": "c1981e35",
   "metadata": {},
   "source": [
    "## File structure and content"
   ]
  },
  {
   "cell_type": "code",
   "execution_count": 5,
   "id": "7a8905fe",
   "metadata": {},
   "outputs": [
    {
     "name": "stdout",
     "output_type": "stream",
     "text": [
      "no of rows :  729322\n",
      "no of colums :  11\n"
     ]
    },
    {
     "data": {
      "text/plain": [
       "id                              id0889885\n",
       "vendor_id                               1\n",
       "pickup_datetime       2016-03-11 23:35:37\n",
       "dropoff_datetime      2016-03-11 23:53:57\n",
       "passenger_count                         2\n",
       "pickup_longitude               -73.988312\n",
       "pickup_latitude                 40.731743\n",
       "dropoff_longitude              -73.994751\n",
       "dropoff_latitude                40.694931\n",
       "store_and_fwd_flag                      N\n",
       "trip_duration                        1100\n",
       "Name: 1, dtype: object"
      ]
     },
     "execution_count": 5,
     "metadata": {},
     "output_type": "execute_result"
    }
   ],
   "source": [
    "print(\"no of rows : \", data.shape[0])\n",
    "print(\"no of colums : \", data.shape[1])\n",
    "data.iloc[1,:]"
   ]
  },
  {
   "cell_type": "markdown",
   "id": "9d788045",
   "metadata": {},
   "source": [
    "At first glance, we can see the types of each variable and what they look like."
   ]
  },
  {
   "cell_type": "markdown",
   "id": "ef87455b",
   "metadata": {},
   "source": [
    "### Missing Values\n",
    "Knowing about missing values is important because they indicate how much we don’t know about our data. Making inferences based on just a few cases is often unwise. In addition, many modelling procedures break down when missing values are involved and the corresponding rows will either have to be removed completely or the values need to be estimated somehow."
   ]
  },
  {
   "cell_type": "code",
   "execution_count": 6,
   "id": "b6c85b18",
   "metadata": {},
   "outputs": [
    {
     "data": {
      "text/plain": [
       "id                    0\n",
       "vendor_id             0\n",
       "pickup_datetime       0\n",
       "dropoff_datetime      0\n",
       "passenger_count       0\n",
       "pickup_longitude      0\n",
       "pickup_latitude       0\n",
       "dropoff_longitude     0\n",
       "dropoff_latitude      0\n",
       "store_and_fwd_flag    0\n",
       "trip_duration         0\n",
       "dtype: int64"
      ]
     },
     "execution_count": 6,
     "metadata": {},
     "output_type": "execute_result"
    }
   ],
   "source": [
    "data.isnull().sum()"
   ]
  },
  {
   "cell_type": "code",
   "execution_count": 7,
   "id": "0383c706",
   "metadata": {},
   "outputs": [
    {
     "data": {
      "text/plain": [
       "id                     object\n",
       "vendor_id               int64\n",
       "pickup_datetime        object\n",
       "dropoff_datetime       object\n",
       "passenger_count         int64\n",
       "pickup_longitude      float64\n",
       "pickup_latitude       float64\n",
       "dropoff_longitude     float64\n",
       "dropoff_latitude      float64\n",
       "store_and_fwd_flag     object\n",
       "trip_duration           int64\n",
       "dtype: object"
      ]
     },
     "execution_count": 7,
     "metadata": {},
     "output_type": "execute_result"
    }
   ],
   "source": [
    "data.dtypes"
   ]
  },
  {
   "cell_type": "code",
   "execution_count": 8,
   "id": "c7ee9a6d",
   "metadata": {},
   "outputs": [
    {
     "data": {
      "text/html": [
       "<div>\n",
       "<style scoped>\n",
       "    .dataframe tbody tr th:only-of-type {\n",
       "        vertical-align: middle;\n",
       "    }\n",
       "\n",
       "    .dataframe tbody tr th {\n",
       "        vertical-align: top;\n",
       "    }\n",
       "\n",
       "    .dataframe thead th {\n",
       "        text-align: right;\n",
       "    }\n",
       "</style>\n",
       "<table border=\"1\" class=\"dataframe\">\n",
       "  <thead>\n",
       "    <tr style=\"text-align: right;\">\n",
       "      <th></th>\n",
       "      <th>vendor_id</th>\n",
       "      <th>passenger_count</th>\n",
       "      <th>pickup_longitude</th>\n",
       "      <th>pickup_latitude</th>\n",
       "      <th>dropoff_longitude</th>\n",
       "      <th>dropoff_latitude</th>\n",
       "      <th>trip_duration</th>\n",
       "    </tr>\n",
       "  </thead>\n",
       "  <tbody>\n",
       "    <tr>\n",
       "      <th>count</th>\n",
       "      <td>729322.000000</td>\n",
       "      <td>729322.000000</td>\n",
       "      <td>729322.000000</td>\n",
       "      <td>729322.000000</td>\n",
       "      <td>729322.000000</td>\n",
       "      <td>729322.000000</td>\n",
       "      <td>7.293220e+05</td>\n",
       "    </tr>\n",
       "    <tr>\n",
       "      <th>mean</th>\n",
       "      <td>1.535403</td>\n",
       "      <td>1.662055</td>\n",
       "      <td>-73.973513</td>\n",
       "      <td>40.750919</td>\n",
       "      <td>-73.973422</td>\n",
       "      <td>40.751775</td>\n",
       "      <td>9.522291e+02</td>\n",
       "    </tr>\n",
       "    <tr>\n",
       "      <th>std</th>\n",
       "      <td>0.498745</td>\n",
       "      <td>1.312446</td>\n",
       "      <td>0.069754</td>\n",
       "      <td>0.033594</td>\n",
       "      <td>0.069588</td>\n",
       "      <td>0.036037</td>\n",
       "      <td>3.864626e+03</td>\n",
       "    </tr>\n",
       "    <tr>\n",
       "      <th>min</th>\n",
       "      <td>1.000000</td>\n",
       "      <td>0.000000</td>\n",
       "      <td>-121.933342</td>\n",
       "      <td>34.712234</td>\n",
       "      <td>-121.933304</td>\n",
       "      <td>32.181141</td>\n",
       "      <td>1.000000e+00</td>\n",
       "    </tr>\n",
       "    <tr>\n",
       "      <th>25%</th>\n",
       "      <td>1.000000</td>\n",
       "      <td>1.000000</td>\n",
       "      <td>-73.991859</td>\n",
       "      <td>40.737335</td>\n",
       "      <td>-73.991318</td>\n",
       "      <td>40.735931</td>\n",
       "      <td>3.970000e+02</td>\n",
       "    </tr>\n",
       "    <tr>\n",
       "      <th>50%</th>\n",
       "      <td>2.000000</td>\n",
       "      <td>1.000000</td>\n",
       "      <td>-73.981758</td>\n",
       "      <td>40.754070</td>\n",
       "      <td>-73.979759</td>\n",
       "      <td>40.754509</td>\n",
       "      <td>6.630000e+02</td>\n",
       "    </tr>\n",
       "    <tr>\n",
       "      <th>75%</th>\n",
       "      <td>2.000000</td>\n",
       "      <td>2.000000</td>\n",
       "      <td>-73.967361</td>\n",
       "      <td>40.768314</td>\n",
       "      <td>-73.963036</td>\n",
       "      <td>40.769741</td>\n",
       "      <td>1.075000e+03</td>\n",
       "    </tr>\n",
       "    <tr>\n",
       "      <th>max</th>\n",
       "      <td>2.000000</td>\n",
       "      <td>9.000000</td>\n",
       "      <td>-65.897385</td>\n",
       "      <td>51.881084</td>\n",
       "      <td>-65.897385</td>\n",
       "      <td>43.921028</td>\n",
       "      <td>1.939736e+06</td>\n",
       "    </tr>\n",
       "  </tbody>\n",
       "</table>\n",
       "</div>"
      ],
      "text/plain": [
       "           vendor_id  passenger_count  pickup_longitude  pickup_latitude  \\\n",
       "count  729322.000000    729322.000000     729322.000000    729322.000000   \n",
       "mean        1.535403         1.662055        -73.973513        40.750919   \n",
       "std         0.498745         1.312446          0.069754         0.033594   \n",
       "min         1.000000         0.000000       -121.933342        34.712234   \n",
       "25%         1.000000         1.000000        -73.991859        40.737335   \n",
       "50%         2.000000         1.000000        -73.981758        40.754070   \n",
       "75%         2.000000         2.000000        -73.967361        40.768314   \n",
       "max         2.000000         9.000000        -65.897385        51.881084   \n",
       "\n",
       "       dropoff_longitude  dropoff_latitude  trip_duration  \n",
       "count      729322.000000     729322.000000   7.293220e+05  \n",
       "mean          -73.973422         40.751775   9.522291e+02  \n",
       "std             0.069588          0.036037   3.864626e+03  \n",
       "min          -121.933304         32.181141   1.000000e+00  \n",
       "25%           -73.991318         40.735931   3.970000e+02  \n",
       "50%           -73.979759         40.754509   6.630000e+02  \n",
       "75%           -73.963036         40.769741   1.075000e+03  \n",
       "max           -65.897385         43.921028   1.939736e+06  "
      ]
     },
     "execution_count": 8,
     "metadata": {},
     "output_type": "execute_result"
    }
   ],
   "source": [
    "data.describe()"
   ]
  },
  {
   "cell_type": "code",
   "execution_count": 9,
   "id": "7eb3b81b",
   "metadata": {},
   "outputs": [
    {
     "data": {
      "text/plain": [
       "N    725282\n",
       "Y      4040\n",
       "Name: store_and_fwd_flag, dtype: int64"
      ]
     },
     "execution_count": 9,
     "metadata": {},
     "output_type": "execute_result"
    }
   ],
   "source": [
    "data['store_and_fwd_flag'].value_counts()"
   ]
  },
  {
   "cell_type": "markdown",
   "id": "e4ff9981",
   "metadata": {},
   "source": [
    "### Reformatting features & Checking consistency\n",
    "There are a variety of features within the dataset and it is important to convert them into the right format such that we can analyse them easily. This would include converting datetime features and string features. "
   ]
  },
  {
   "cell_type": "code",
   "execution_count": 10,
   "id": "f637ffe2",
   "metadata": {},
   "outputs": [],
   "source": [
    "data['pickup_datetime'] = pd.to_datetime(data.pickup_datetime)\n",
    "data['dropoff_datetime'] = pd.to_datetime(data.dropoff_datetime)\n",
    "\n",
    "data['store_and_fwd_flag'] = 1 * (data.store_and_fwd_flag.values == 'Y')"
   ]
  },
  {
   "cell_type": "code",
   "execution_count": 11,
   "id": "1940deee",
   "metadata": {},
   "outputs": [
    {
     "data": {
      "text/html": [
       "<div>\n",
       "<style scoped>\n",
       "    .dataframe tbody tr th:only-of-type {\n",
       "        vertical-align: middle;\n",
       "    }\n",
       "\n",
       "    .dataframe tbody tr th {\n",
       "        vertical-align: top;\n",
       "    }\n",
       "\n",
       "    .dataframe thead th {\n",
       "        text-align: right;\n",
       "    }\n",
       "</style>\n",
       "<table border=\"1\" class=\"dataframe\">\n",
       "  <thead>\n",
       "    <tr style=\"text-align: right;\">\n",
       "      <th></th>\n",
       "      <th>id</th>\n",
       "      <th>vendor_id</th>\n",
       "      <th>pickup_datetime</th>\n",
       "      <th>dropoff_datetime</th>\n",
       "      <th>passenger_count</th>\n",
       "      <th>pickup_longitude</th>\n",
       "      <th>pickup_latitude</th>\n",
       "      <th>dropoff_longitude</th>\n",
       "      <th>dropoff_latitude</th>\n",
       "      <th>store_and_fwd_flag</th>\n",
       "      <th>trip_duration</th>\n",
       "    </tr>\n",
       "  </thead>\n",
       "  <tbody>\n",
       "    <tr>\n",
       "      <th>0</th>\n",
       "      <td>id1080784</td>\n",
       "      <td>2</td>\n",
       "      <td>2016-02-29 16:40:21</td>\n",
       "      <td>2016-02-29 16:47:01</td>\n",
       "      <td>1</td>\n",
       "      <td>-73.953918</td>\n",
       "      <td>40.778873</td>\n",
       "      <td>-73.963875</td>\n",
       "      <td>40.771164</td>\n",
       "      <td>0</td>\n",
       "      <td>400</td>\n",
       "    </tr>\n",
       "    <tr>\n",
       "      <th>1</th>\n",
       "      <td>id0889885</td>\n",
       "      <td>1</td>\n",
       "      <td>2016-03-11 23:35:37</td>\n",
       "      <td>2016-03-11 23:53:57</td>\n",
       "      <td>2</td>\n",
       "      <td>-73.988312</td>\n",
       "      <td>40.731743</td>\n",
       "      <td>-73.994751</td>\n",
       "      <td>40.694931</td>\n",
       "      <td>0</td>\n",
       "      <td>1100</td>\n",
       "    </tr>\n",
       "    <tr>\n",
       "      <th>2</th>\n",
       "      <td>id0857912</td>\n",
       "      <td>2</td>\n",
       "      <td>2016-02-21 17:59:33</td>\n",
       "      <td>2016-02-21 18:26:48</td>\n",
       "      <td>2</td>\n",
       "      <td>-73.997314</td>\n",
       "      <td>40.721458</td>\n",
       "      <td>-73.948029</td>\n",
       "      <td>40.774918</td>\n",
       "      <td>0</td>\n",
       "      <td>1635</td>\n",
       "    </tr>\n",
       "    <tr>\n",
       "      <th>3</th>\n",
       "      <td>id3744273</td>\n",
       "      <td>2</td>\n",
       "      <td>2016-01-05 09:44:31</td>\n",
       "      <td>2016-01-05 10:03:32</td>\n",
       "      <td>6</td>\n",
       "      <td>-73.961670</td>\n",
       "      <td>40.759720</td>\n",
       "      <td>-73.956779</td>\n",
       "      <td>40.780628</td>\n",
       "      <td>0</td>\n",
       "      <td>1141</td>\n",
       "    </tr>\n",
       "    <tr>\n",
       "      <th>4</th>\n",
       "      <td>id0232939</td>\n",
       "      <td>1</td>\n",
       "      <td>2016-02-17 06:42:23</td>\n",
       "      <td>2016-02-17 06:56:31</td>\n",
       "      <td>1</td>\n",
       "      <td>-74.017120</td>\n",
       "      <td>40.708469</td>\n",
       "      <td>-73.988182</td>\n",
       "      <td>40.740631</td>\n",
       "      <td>0</td>\n",
       "      <td>848</td>\n",
       "    </tr>\n",
       "  </tbody>\n",
       "</table>\n",
       "</div>"
      ],
      "text/plain": [
       "          id  vendor_id     pickup_datetime    dropoff_datetime  \\\n",
       "0  id1080784          2 2016-02-29 16:40:21 2016-02-29 16:47:01   \n",
       "1  id0889885          1 2016-03-11 23:35:37 2016-03-11 23:53:57   \n",
       "2  id0857912          2 2016-02-21 17:59:33 2016-02-21 18:26:48   \n",
       "3  id3744273          2 2016-01-05 09:44:31 2016-01-05 10:03:32   \n",
       "4  id0232939          1 2016-02-17 06:42:23 2016-02-17 06:56:31   \n",
       "\n",
       "   passenger_count  pickup_longitude  pickup_latitude  dropoff_longitude  \\\n",
       "0                1        -73.953918        40.778873         -73.963875   \n",
       "1                2        -73.988312        40.731743         -73.994751   \n",
       "2                2        -73.997314        40.721458         -73.948029   \n",
       "3                6        -73.961670        40.759720         -73.956779   \n",
       "4                1        -74.017120        40.708469         -73.988182   \n",
       "\n",
       "   dropoff_latitude  store_and_fwd_flag  trip_duration  \n",
       "0         40.771164                   0            400  \n",
       "1         40.694931                   0           1100  \n",
       "2         40.774918                   0           1635  \n",
       "3         40.780628                   0           1141  \n",
       "4         40.740631                   0            848  "
      ]
     },
     "execution_count": 11,
     "metadata": {},
     "output_type": "execute_result"
    }
   ],
   "source": [
    "data.head()"
   ]
  },
  {
   "cell_type": "markdown",
   "id": "27af3886",
   "metadata": {},
   "source": [
    "### Univariate Visualization\n",
    "First of all, let us look at some of the binary features. Looking at each feature might uncover some insight that might be useful at later modelling stages"
   ]
  },
  {
   "cell_type": "code",
   "execution_count": 12,
   "id": "c48adad7",
   "metadata": {},
   "outputs": [
    {
     "data": {
      "text/plain": [
       "Text(0, 0.5, 'Frequency')"
      ]
     },
     "execution_count": 12,
     "metadata": {},
     "output_type": "execute_result"
    },
    {
     "data": {
      "image/png": "[encoded data removed]",
      "text/plain": [
       "<Figure size 2200x600 with 3 Axes>"
      ]
     },
     "metadata": {},
     "output_type": "display_data"
    }
   ],
   "source": [
    "# Binary Features\n",
    "plt.figure(figsize=(22, 6))\n",
    "#fig, axs = plt.subplot(ncols=2)\n",
    "\n",
    "# Passenger Count\n",
    "plt.subplot(131)\n",
    "sns.countplot(data['passenger_count'])\n",
    "plt.xlabel('Passenger Count')\n",
    "plt.ylabel('Frequency')\n",
    "\n",
    "\n",
    "# vendor_id\n",
    "plt.subplot(132)\n",
    "sns.countplot(data['vendor_id'])\n",
    "plt.xlabel('vendor_id')\n",
    "plt.ylabel('Frequency')\n",
    "\n",
    "# store_and_fwd_flag\n",
    "plt.subplot(133)\n",
    "sns.countplot(data['store_and_fwd_flag'])\n",
    "plt.xlabel('store_and_fwd_flag')\n",
    "plt.ylabel('Frequency')\n"
   ]
  },
  {
   "cell_type": "markdown",
   "id": "00817920",
   "metadata": {},
   "source": [
    "Observations:\n",
    "1. Most of the trips involve only 1 passenger. There are trips with 7-9 passengers but they are very low in number.\n",
    "2. Vendor 2 has more number of trips as compared to vendor 1\n",
    "3. The store_and_fwd_flag values, indicating whether the trip data was sent immediately to the vendor (“0”) or held in the memory of the taxi because there was no connection to the server (“1”), show that there was almost no storing taking place"
   ]
  },
  {
   "cell_type": "code",
   "execution_count": 13,
   "id": "6b6be28c",
   "metadata": {},
   "outputs": [],
   "source": [
    "# extracting day, weekday and hour from columns\n",
    "\n",
    "data['pickup_day'] = data['pickup_datetime'].dt.day\n",
    "\n",
    "data['pickup_day_of_week'] = data['pickup_datetime'].dt.weekday\n",
    "\n",
    "data['pickup_hour_of_day'] = data['pickup_datetime'].dt.hour\n",
    "\n",
    "data['dropoff_day'] = data['dropoff_datetime'].dt.day\n",
    "\n",
    "data['dropoff_hour_of_day'] = data['dropoff_datetime'].dt.hour\n",
    "\n",
    "data['dropoff_day_of_week'] = data['dropoff_datetime'].dt.weekday"
   ]
  },
  {
   "cell_type": "code",
   "execution_count": 14,
   "id": "3e6ebb4f",
   "metadata": {},
   "outputs": [
    {
     "data": {
      "text/html": [
       "<div>\n",
       "<style scoped>\n",
       "    .dataframe tbody tr th:only-of-type {\n",
       "        vertical-align: middle;\n",
       "    }\n",
       "\n",
       "    .dataframe tbody tr th {\n",
       "        vertical-align: top;\n",
       "    }\n",
       "\n",
       "    .dataframe thead th {\n",
       "        text-align: right;\n",
       "    }\n",
       "</style>\n",
       "<table border=\"1\" class=\"dataframe\">\n",
       "  <thead>\n",
       "    <tr style=\"text-align: right;\">\n",
       "      <th></th>\n",
       "      <th>id</th>\n",
       "      <th>vendor_id</th>\n",
       "      <th>pickup_datetime</th>\n",
       "      <th>dropoff_datetime</th>\n",
       "      <th>passenger_count</th>\n",
       "      <th>pickup_longitude</th>\n",
       "      <th>pickup_latitude</th>\n",
       "      <th>dropoff_longitude</th>\n",
       "      <th>dropoff_latitude</th>\n",
       "      <th>store_and_fwd_flag</th>\n",
       "      <th>trip_duration</th>\n",
       "      <th>pickup_day</th>\n",
       "      <th>pickup_day_of_week</th>\n",
       "      <th>pickup_hour_of_day</th>\n",
       "      <th>dropoff_day</th>\n",
       "      <th>dropoff_hour_of_day</th>\n",
       "      <th>dropoff_day_of_week</th>\n",
       "    </tr>\n",
       "  </thead>\n",
       "  <tbody>\n",
       "    <tr>\n",
       "      <th>0</th>\n",
       "      <td>id1080784</td>\n",
       "      <td>2</td>\n",
       "      <td>2016-02-29 16:40:21</td>\n",
       "      <td>2016-02-29 16:47:01</td>\n",
       "      <td>1</td>\n",
       "      <td>-73.953918</td>\n",
       "      <td>40.778873</td>\n",
       "      <td>-73.963875</td>\n",
       "      <td>40.771164</td>\n",
       "      <td>0</td>\n",
       "      <td>400</td>\n",
       "      <td>29</td>\n",
       "      <td>0</td>\n",
       "      <td>16</td>\n",
       "      <td>29</td>\n",
       "      <td>16</td>\n",
       "      <td>0</td>\n",
       "    </tr>\n",
       "  </tbody>\n",
       "</table>\n",
       "</div>"
      ],
      "text/plain": [
       "          id  vendor_id     pickup_datetime    dropoff_datetime  \\\n",
       "0  id1080784          2 2016-02-29 16:40:21 2016-02-29 16:47:01   \n",
       "\n",
       "   passenger_count  pickup_longitude  pickup_latitude  dropoff_longitude  \\\n",
       "0                1        -73.953918        40.778873         -73.963875   \n",
       "\n",
       "   dropoff_latitude  store_and_fwd_flag  trip_duration  pickup_day  \\\n",
       "0         40.771164                   0            400          29   \n",
       "\n",
       "   pickup_day_of_week  pickup_hour_of_day  dropoff_day  dropoff_hour_of_day  \\\n",
       "0                   0                  16           29                   16   \n",
       "\n",
       "   dropoff_day_of_week  \n",
       "0                    0  "
      ]
     },
     "execution_count": 14,
     "metadata": {},
     "output_type": "execute_result"
    }
   ],
   "source": [
    "data.head(1)"
   ]
  },
  {
   "cell_type": "code",
   "execution_count": 15,
   "id": "a3285bc3",
   "metadata": {},
   "outputs": [
    {
     "data": {
      "text/plain": [
       "Text(0, 0.5, 'Total number of pickups')"
      ]
     },
     "execution_count": 15,
     "metadata": {},
     "output_type": "execute_result"
    },
    {
     "data": {
      "image/png": "[encoded data removed]",
      "text/plain": [
       "<Figure size 2200x600 with 2 Axes>"
      ]
     },
     "metadata": {},
     "output_type": "display_data"
    }
   ],
   "source": [
    "\n",
    "# Datetime features\n",
    "plt.figure(figsize=(22, 6))\n",
    "\n",
    "# Passenger Count\n",
    "plt.subplot(121)\n",
    "sns.countplot(data['pickup_day_of_week'])\n",
    "plt.xlabel('Week Day')\n",
    "plt.ylabel('Total Number of pickups')\n",
    "\n",
    "# vendor_id\n",
    "plt.subplot(122)\n",
    "sns.countplot(data['pickup_hour_of_day'])\n",
    "plt.xlabel('Hour of Day')\n",
    "plt.ylabel('Total number of pickups')\n"
   ]
  },
  {
   "cell_type": "markdown",
   "id": "747d576c",
   "metadata": {},
   "source": [
    "* Number of pickups for weekends is much lower than week days with a peak on Thursday (4). Note that here weekday is a decimal number, where 0 is Sunday and 6 is Saturday.\n",
    "* Number of pickups as expected is highest in late evenings. However, it is much lower during the morning peak hours."
   ]
  },
  {
   "cell_type": "code",
   "execution_count": 18,
   "id": "83927b89",
   "metadata": {},
   "outputs": [
    {
     "data": {
      "text/plain": [
       "Index(['id', 'vendor_id', 'pickup_datetime', 'dropoff_datetime',\n",
       "       'passenger_count', 'pickup_longitude', 'pickup_latitude',\n",
       "       'dropoff_longitude', 'dropoff_latitude', 'store_and_fwd_flag',\n",
       "       'trip_duration', 'pickup_day', 'pickup_day_of_week',\n",
       "       'pickup_hour_of_day', 'dropoff_day', 'dropoff_hour_of_day',\n",
       "       'dropoff_day_of_week'],\n",
       "      dtype='object')"
      ]
     },
     "execution_count": 18,
     "metadata": {},
     "output_type": "execute_result"
    }
   ],
   "source": [
    "data.columns"
   ]
  },
  {
   "cell_type": "code",
   "execution_count": 19,
   "id": "05c5210c",
   "metadata": {},
   "outputs": [
    {
     "data": {
      "text/plain": [
       "1    517415\n",
       "2    105097\n",
       "5     38926\n",
       "3     29692\n",
       "6     24107\n",
       "4     14050\n",
       "0        33\n",
       "7         1\n",
       "9         1\n",
       "Name: passenger_count, dtype: int64"
      ]
     },
     "execution_count": 19,
     "metadata": {},
     "output_type": "execute_result"
    }
   ],
   "source": [
    "data.passenger_count.value_counts()"
   ]
  },
  {
   "cell_type": "markdown",
   "id": "7fcfc5d7",
   "metadata": {},
   "source": [
    "From data above we can see there are extremely low values with passenger_count 0, 7 and 9. So, we will remove these records"
   ]
  },
  {
   "cell_type": "code",
   "execution_count": 20,
   "id": "c3c1919c",
   "metadata": {},
   "outputs": [],
   "source": [
    "data=data[data['passenger_count']!=0]\n",
    "data=data[data['passenger_count']<=6]"
   ]
  },
  {
   "cell_type": "code",
   "execution_count": 21,
   "id": "aad2f9ae",
   "metadata": {},
   "outputs": [
    {
     "data": {
      "text/plain": [
       "1    517415\n",
       "2    105097\n",
       "5     38926\n",
       "3     29692\n",
       "6     24107\n",
       "4     14050\n",
       "Name: passenger_count, dtype: int64"
      ]
     },
     "execution_count": 21,
     "metadata": {},
     "output_type": "execute_result"
    }
   ],
   "source": [
    "data.passenger_count.value_counts()"
   ]
  },
  {
   "cell_type": "markdown",
   "id": "b3d6d6f3",
   "metadata": {},
   "source": [
    "### Target Exploration\n",
    "In this section we will take a look at the trip duration which is the target variable. It is crucial to understand it in detail as this is what we are trying to predict accurately."
   ]
  },
  {
   "cell_type": "code",
   "execution_count": 22,
   "id": "fc0f279c",
   "metadata": {},
   "outputs": [
    {
     "data": {
      "text/plain": [
       "count    202.579722\n",
       "mean       0.264515\n",
       "std        1.073531\n",
       "min        0.000278\n",
       "25%        0.110278\n",
       "50%        0.184167\n",
       "75%        0.298611\n",
       "max      538.815556\n",
       "Name: trip_duration, dtype: float64"
      ]
     },
     "execution_count": 22,
     "metadata": {},
     "output_type": "execute_result"
    }
   ],
   "source": [
    "data['trip_duration'].describe()/3600 # Trip duration in hours"
   ]
  },
  {
   "cell_type": "markdown",
   "id": "b11c6fe1",
   "metadata": {},
   "source": [
    "Woah! There is a trip with duration of 979 hours. This is a huge outlier and might create problems at the prediction stage. One idea is to log transform the trip duration before prediction to visualise it better."
   ]
  },
  {
   "cell_type": "code",
   "execution_count": 23,
   "id": "c4de4fb3",
   "metadata": {},
   "outputs": [
    {
     "data": {
      "image/png": "[encoded data removed]",
      "text/plain": [
       "<Figure size 640x480 with 1 Axes>"
      ]
     },
     "metadata": {},
     "output_type": "display_data"
    }
   ],
   "source": [
    "data['log_trip_duration'] = np.log(data['trip_duration'].values + 1)\n",
    "sns.distplot(data['log_trip_duration'], kde = False, bins = 200)\n",
    "plt.show()"
   ]
  },
  {
   "cell_type": "markdown",
   "id": "51f979d6",
   "metadata": {},
   "source": [
    "We find:\n",
    "\n",
    "1. The majority of rides follow a rather smooth distribution that looks almost log-normal with a peak just around exp(6.5)  i.e. about 17 minutes.\n",
    "2. There are several suspiciously short rides with less than 10 seconds duration.\n",
    "3. As discussed earlier, there are a few huge outliers near 12."
   ]
  },
  {
   "cell_type": "code",
   "execution_count": 24,
   "id": "e11d3bdd",
   "metadata": {},
   "outputs": [
    {
     "data": {
      "text/html": [
       "<div>\n",
       "<style scoped>\n",
       "    .dataframe tbody tr th:only-of-type {\n",
       "        vertical-align: middle;\n",
       "    }\n",
       "\n",
       "    .dataframe tbody tr th {\n",
       "        vertical-align: top;\n",
       "    }\n",
       "\n",
       "    .dataframe thead th {\n",
       "        text-align: right;\n",
       "    }\n",
       "</style>\n",
       "<table border=\"1\" class=\"dataframe\">\n",
       "  <thead>\n",
       "    <tr style=\"text-align: right;\">\n",
       "      <th></th>\n",
       "      <th>id</th>\n",
       "      <th>vendor_id</th>\n",
       "      <th>pickup_datetime</th>\n",
       "      <th>dropoff_datetime</th>\n",
       "      <th>passenger_count</th>\n",
       "      <th>pickup_longitude</th>\n",
       "      <th>pickup_latitude</th>\n",
       "      <th>dropoff_longitude</th>\n",
       "      <th>dropoff_latitude</th>\n",
       "      <th>store_and_fwd_flag</th>\n",
       "      <th>trip_duration</th>\n",
       "      <th>pickup_day</th>\n",
       "      <th>pickup_day_of_week</th>\n",
       "      <th>pickup_hour_of_day</th>\n",
       "      <th>dropoff_day</th>\n",
       "      <th>dropoff_hour_of_day</th>\n",
       "      <th>dropoff_day_of_week</th>\n",
       "      <th>log_trip_duration</th>\n",
       "    </tr>\n",
       "  </thead>\n",
       "  <tbody>\n",
       "    <tr>\n",
       "      <th>0</th>\n",
       "      <td>id1080784</td>\n",
       "      <td>2</td>\n",
       "      <td>2016-02-29 16:40:21</td>\n",
       "      <td>2016-02-29 16:47:01</td>\n",
       "      <td>1</td>\n",
       "      <td>-73.953918</td>\n",
       "      <td>40.778873</td>\n",
       "      <td>-73.963875</td>\n",
       "      <td>40.771164</td>\n",
       "      <td>0</td>\n",
       "      <td>400</td>\n",
       "      <td>29</td>\n",
       "      <td>0</td>\n",
       "      <td>16</td>\n",
       "      <td>29</td>\n",
       "      <td>16</td>\n",
       "      <td>0</td>\n",
       "      <td>5.993961</td>\n",
       "    </tr>\n",
       "    <tr>\n",
       "      <th>1</th>\n",
       "      <td>id0889885</td>\n",
       "      <td>1</td>\n",
       "      <td>2016-03-11 23:35:37</td>\n",
       "      <td>2016-03-11 23:53:57</td>\n",
       "      <td>2</td>\n",
       "      <td>-73.988312</td>\n",
       "      <td>40.731743</td>\n",
       "      <td>-73.994751</td>\n",
       "      <td>40.694931</td>\n",
       "      <td>0</td>\n",
       "      <td>1100</td>\n",
       "      <td>11</td>\n",
       "      <td>4</td>\n",
       "      <td>23</td>\n",
       "      <td>11</td>\n",
       "      <td>23</td>\n",
       "      <td>4</td>\n",
       "      <td>7.003974</td>\n",
       "    </tr>\n",
       "    <tr>\n",
       "      <th>2</th>\n",
       "      <td>id0857912</td>\n",
       "      <td>2</td>\n",
       "      <td>2016-02-21 17:59:33</td>\n",
       "      <td>2016-02-21 18:26:48</td>\n",
       "      <td>2</td>\n",
       "      <td>-73.997314</td>\n",
       "      <td>40.721458</td>\n",
       "      <td>-73.948029</td>\n",
       "      <td>40.774918</td>\n",
       "      <td>0</td>\n",
       "      <td>1635</td>\n",
       "      <td>21</td>\n",
       "      <td>6</td>\n",
       "      <td>17</td>\n",
       "      <td>21</td>\n",
       "      <td>18</td>\n",
       "      <td>6</td>\n",
       "      <td>7.400010</td>\n",
       "    </tr>\n",
       "    <tr>\n",
       "      <th>3</th>\n",
       "      <td>id3744273</td>\n",
       "      <td>2</td>\n",
       "      <td>2016-01-05 09:44:31</td>\n",
       "      <td>2016-01-05 10:03:32</td>\n",
       "      <td>6</td>\n",
       "      <td>-73.961670</td>\n",
       "      <td>40.759720</td>\n",
       "      <td>-73.956779</td>\n",
       "      <td>40.780628</td>\n",
       "      <td>0</td>\n",
       "      <td>1141</td>\n",
       "      <td>5</td>\n",
       "      <td>1</td>\n",
       "      <td>9</td>\n",
       "      <td>5</td>\n",
       "      <td>10</td>\n",
       "      <td>1</td>\n",
       "      <td>7.040536</td>\n",
       "    </tr>\n",
       "    <tr>\n",
       "      <th>4</th>\n",
       "      <td>id0232939</td>\n",
       "      <td>1</td>\n",
       "      <td>2016-02-17 06:42:23</td>\n",
       "      <td>2016-02-17 06:56:31</td>\n",
       "      <td>1</td>\n",
       "      <td>-74.017120</td>\n",
       "      <td>40.708469</td>\n",
       "      <td>-73.988182</td>\n",
       "      <td>40.740631</td>\n",
       "      <td>0</td>\n",
       "      <td>848</td>\n",
       "      <td>17</td>\n",
       "      <td>2</td>\n",
       "      <td>6</td>\n",
       "      <td>17</td>\n",
       "      <td>6</td>\n",
       "      <td>2</td>\n",
       "      <td>6.744059</td>\n",
       "    </tr>\n",
       "  </tbody>\n",
       "</table>\n",
       "</div>"
      ],
      "text/plain": [
       "          id  vendor_id     pickup_datetime    dropoff_datetime  \\\n",
       "0  id1080784          2 2016-02-29 16:40:21 2016-02-29 16:47:01   \n",
       "1  id0889885          1 2016-03-11 23:35:37 2016-03-11 23:53:57   \n",
       "2  id0857912          2 2016-02-21 17:59:33 2016-02-21 18:26:48   \n",
       "3  id3744273          2 2016-01-05 09:44:31 2016-01-05 10:03:32   \n",
       "4  id0232939          1 2016-02-17 06:42:23 2016-02-17 06:56:31   \n",
       "\n",
       "   passenger_count  pickup_longitude  pickup_latitude  dropoff_longitude  \\\n",
       "0                1        -73.953918        40.778873         -73.963875   \n",
       "1                2        -73.988312        40.731743         -73.994751   \n",
       "2                2        -73.997314        40.721458         -73.948029   \n",
       "3                6        -73.961670        40.759720         -73.956779   \n",
       "4                1        -74.017120        40.708469         -73.988182   \n",
       "\n",
       "   dropoff_latitude  store_and_fwd_flag  trip_duration  pickup_day  \\\n",
       "0         40.771164                   0            400          29   \n",
       "1         40.694931                   0           1100          11   \n",
       "2         40.774918                   0           1635          21   \n",
       "3         40.780628                   0           1141           5   \n",
       "4         40.740631                   0            848          17   \n",
       "\n",
       "   pickup_day_of_week  pickup_hour_of_day  dropoff_day  dropoff_hour_of_day  \\\n",
       "0                   0                  16           29                   16   \n",
       "1                   4                  23           11                   23   \n",
       "2                   6                  17           21                   18   \n",
       "3                   1                   9            5                   10   \n",
       "4                   2                   6           17                    6   \n",
       "\n",
       "   dropoff_day_of_week  log_trip_duration  \n",
       "0                    0           5.993961  \n",
       "1                    4           7.003974  \n",
       "2                    6           7.400010  \n",
       "3                    1           7.040536  \n",
       "4                    2           6.744059  "
      ]
     },
     "execution_count": 24,
     "metadata": {},
     "output_type": "execute_result"
    }
   ],
   "source": [
    "data.head()"
   ]
  },
  {
   "cell_type": "code",
   "execution_count": 25,
   "id": "bf00367f",
   "metadata": {},
   "outputs": [],
   "source": [
    "# droping following columns from dataset\n",
    "\n",
    "data_new = data.drop(columns=['id','pickup_datetime', 'dropoff_datetime', 'pickup_longitude','pickup_latitude',\n",
    "                       'dropoff_longitude','dropoff_latitude','trip_duration'])"
   ]
  },
  {
   "cell_type": "code",
   "execution_count": 26,
   "id": "0b31d416",
   "metadata": {},
   "outputs": [
    {
     "data": {
      "text/html": [
       "<div>\n",
       "<style scoped>\n",
       "    .dataframe tbody tr th:only-of-type {\n",
       "        vertical-align: middle;\n",
       "    }\n",
       "\n",
       "    .dataframe tbody tr th {\n",
       "        vertical-align: top;\n",
       "    }\n",
       "\n",
       "    .dataframe thead th {\n",
       "        text-align: right;\n",
       "    }\n",
       "</style>\n",
       "<table border=\"1\" class=\"dataframe\">\n",
       "  <thead>\n",
       "    <tr style=\"text-align: right;\">\n",
       "      <th></th>\n",
       "      <th>vendor_id</th>\n",
       "      <th>passenger_count</th>\n",
       "      <th>store_and_fwd_flag</th>\n",
       "      <th>pickup_day</th>\n",
       "      <th>pickup_day_of_week</th>\n",
       "      <th>pickup_hour_of_day</th>\n",
       "      <th>dropoff_day</th>\n",
       "      <th>dropoff_hour_of_day</th>\n",
       "      <th>dropoff_day_of_week</th>\n",
       "      <th>log_trip_duration</th>\n",
       "    </tr>\n",
       "  </thead>\n",
       "  <tbody>\n",
       "    <tr>\n",
       "      <th>0</th>\n",
       "      <td>2</td>\n",
       "      <td>1</td>\n",
       "      <td>0</td>\n",
       "      <td>29</td>\n",
       "      <td>0</td>\n",
       "      <td>16</td>\n",
       "      <td>29</td>\n",
       "      <td>16</td>\n",
       "      <td>0</td>\n",
       "      <td>5.993961</td>\n",
       "    </tr>\n",
       "    <tr>\n",
       "      <th>1</th>\n",
       "      <td>1</td>\n",
       "      <td>2</td>\n",
       "      <td>0</td>\n",
       "      <td>11</td>\n",
       "      <td>4</td>\n",
       "      <td>23</td>\n",
       "      <td>11</td>\n",
       "      <td>23</td>\n",
       "      <td>4</td>\n",
       "      <td>7.003974</td>\n",
       "    </tr>\n",
       "    <tr>\n",
       "      <th>2</th>\n",
       "      <td>2</td>\n",
       "      <td>2</td>\n",
       "      <td>0</td>\n",
       "      <td>21</td>\n",
       "      <td>6</td>\n",
       "      <td>17</td>\n",
       "      <td>21</td>\n",
       "      <td>18</td>\n",
       "      <td>6</td>\n",
       "      <td>7.400010</td>\n",
       "    </tr>\n",
       "    <tr>\n",
       "      <th>3</th>\n",
       "      <td>2</td>\n",
       "      <td>6</td>\n",
       "      <td>0</td>\n",
       "      <td>5</td>\n",
       "      <td>1</td>\n",
       "      <td>9</td>\n",
       "      <td>5</td>\n",
       "      <td>10</td>\n",
       "      <td>1</td>\n",
       "      <td>7.040536</td>\n",
       "    </tr>\n",
       "    <tr>\n",
       "      <th>4</th>\n",
       "      <td>1</td>\n",
       "      <td>1</td>\n",
       "      <td>0</td>\n",
       "      <td>17</td>\n",
       "      <td>2</td>\n",
       "      <td>6</td>\n",
       "      <td>17</td>\n",
       "      <td>6</td>\n",
       "      <td>2</td>\n",
       "      <td>6.744059</td>\n",
       "    </tr>\n",
       "  </tbody>\n",
       "</table>\n",
       "</div>"
      ],
      "text/plain": [
       "   vendor_id  passenger_count  store_and_fwd_flag  pickup_day  \\\n",
       "0          2                1                   0          29   \n",
       "1          1                2                   0          11   \n",
       "2          2                2                   0          21   \n",
       "3          2                6                   0           5   \n",
       "4          1                1                   0          17   \n",
       "\n",
       "   pickup_day_of_week  pickup_hour_of_day  dropoff_day  dropoff_hour_of_day  \\\n",
       "0                   0                  16           29                   16   \n",
       "1                   4                  23           11                   23   \n",
       "2                   6                  17           21                   18   \n",
       "3                   1                   9            5                   10   \n",
       "4                   2                   6           17                    6   \n",
       "\n",
       "   dropoff_day_of_week  log_trip_duration  \n",
       "0                    0           5.993961  \n",
       "1                    4           7.003974  \n",
       "2                    6           7.400010  \n",
       "3                    1           7.040536  \n",
       "4                    2           6.744059  "
      ]
     },
     "execution_count": 26,
     "metadata": {},
     "output_type": "execute_result"
    }
   ],
   "source": [
    "data_new.head()"
   ]
  },
  {
   "cell_type": "code",
   "execution_count": 27,
   "id": "c8d3fc4f",
   "metadata": {},
   "outputs": [],
   "source": [
    "#seperating independent and dependent variables\n",
    "x = data_new.drop('log_trip_duration', axis=1)\n",
    "y = data_new['log_trip_duration']"
   ]
  },
  {
   "cell_type": "markdown",
   "id": "ec3c07eb",
   "metadata": {},
   "source": [
    "### Conclusions\n",
    "1. The majority of rides follow a rather smooth distribution that looks almost log-normal with a peak just around exp(6.5)  i.e. about 17 minutes.\n",
    "2. There are several suspiciously short rides with less than 10 seconds duration.\n",
    "3. As discussed earlier, there are a few huge outliers near 12.\n",
    "4. Most of the trips involve only 1 passenger. There are trips with 7-9 passengers but they are very low in number.\n",
    "5. Vendor 2 has more number of trips as compared to vendor 1\n",
    "6. Number of pickups for weekends is much lower than week days with a peak on Thursday (4). Note that here weekday is a decimal number, where 0 is Sunday and 6 is Saturday.\n",
    "7. Number of pickups as expected is highest in late evenings. However, it is much lower during the morning peak hours.\n",
    "8. Trip durations are definitely shorter for late night and early morning hours that can be attributed to low traffic density"
   ]
  },
  {
   "cell_type": "markdown",
   "id": "a60dc02f",
   "metadata": {},
   "source": [
    "# 1: Choose the most suitable evaluation metric and state why you chose it?"
   ]
  },
  {
   "cell_type": "markdown",
   "id": "2290c4c8",
   "metadata": {},
   "source": [
    "This is a regression problem, hence I am choosing RMSE(root mean squared error) because it is most commonly used in regression problem.\n",
    "\n",
    "We have a lot of options to choose as evaluation metric such as, Mean Absolute Error, Mean Squared Error, Root Mean Squared Error, Root Mean Squared log error and R-squared.\n",
    "\n",
    "RMSE is a very simple metric to be used for evaluation. Lower the value of RMSE, better the model.\n",
    "\n",
    "RMSE brings down the unit of the differnce between predicted and actual values to the same unit."
   ]
  },
  {
   "cell_type": "code",
   "execution_count": 28,
   "id": "b055c24a",
   "metadata": {},
   "outputs": [],
   "source": [
    "# dividing the data for training and testing with the help of train_test_split function\n",
    "\n",
    "x_train, x_test, y_train, y_test = train_test_split(x, y, test_size=0.25, random_state=42)"
   ]
  },
  {
   "cell_type": "markdown",
   "id": "413ef2b5",
   "metadata": {},
   "source": [
    "# 2. Build a BenchMark model for the given dataset "
   ]
  },
  {
   "cell_type": "code",
   "execution_count": 29,
   "id": "9e1a90fb",
   "metadata": {},
   "outputs": [],
   "source": [
    "# creating train and test set for benchmark model\n",
    "\n",
    "bench_train = pd.concat([x_train, y_train], axis=1, join=\"inner\")\n",
    "bench_test = pd.concat([x_test, y_test], axis=1, join=\"inner\")"
   ]
  },
  {
   "cell_type": "code",
   "execution_count": 30,
   "id": "284e0200",
   "metadata": {},
   "outputs": [
    {
     "data": {
      "text/html": [
       "<div>\n",
       "<style scoped>\n",
       "    .dataframe tbody tr th:only-of-type {\n",
       "        vertical-align: middle;\n",
       "    }\n",
       "\n",
       "    .dataframe tbody tr th {\n",
       "        vertical-align: top;\n",
       "    }\n",
       "\n",
       "    .dataframe thead th {\n",
       "        text-align: right;\n",
       "    }\n",
       "</style>\n",
       "<table border=\"1\" class=\"dataframe\">\n",
       "  <thead>\n",
       "    <tr style=\"text-align: right;\">\n",
       "      <th></th>\n",
       "      <th>vendor_id</th>\n",
       "      <th>passenger_count</th>\n",
       "      <th>store_and_fwd_flag</th>\n",
       "      <th>pickup_day</th>\n",
       "      <th>pickup_day_of_week</th>\n",
       "      <th>pickup_hour_of_day</th>\n",
       "      <th>dropoff_day</th>\n",
       "      <th>dropoff_hour_of_day</th>\n",
       "      <th>dropoff_day_of_week</th>\n",
       "      <th>log_trip_duration</th>\n",
       "    </tr>\n",
       "  </thead>\n",
       "  <tbody>\n",
       "    <tr>\n",
       "      <th>203420</th>\n",
       "      <td>2</td>\n",
       "      <td>1</td>\n",
       "      <td>0</td>\n",
       "      <td>29</td>\n",
       "      <td>1</td>\n",
       "      <td>15</td>\n",
       "      <td>29</td>\n",
       "      <td>15</td>\n",
       "      <td>1</td>\n",
       "      <td>6.115892</td>\n",
       "    </tr>\n",
       "    <tr>\n",
       "      <th>318505</th>\n",
       "      <td>2</td>\n",
       "      <td>2</td>\n",
       "      <td>0</td>\n",
       "      <td>2</td>\n",
       "      <td>2</td>\n",
       "      <td>12</td>\n",
       "      <td>2</td>\n",
       "      <td>12</td>\n",
       "      <td>2</td>\n",
       "      <td>6.720220</td>\n",
       "    </tr>\n",
       "    <tr>\n",
       "      <th>190735</th>\n",
       "      <td>2</td>\n",
       "      <td>5</td>\n",
       "      <td>0</td>\n",
       "      <td>2</td>\n",
       "      <td>5</td>\n",
       "      <td>19</td>\n",
       "      <td>2</td>\n",
       "      <td>19</td>\n",
       "      <td>5</td>\n",
       "      <td>7.681099</td>\n",
       "    </tr>\n",
       "    <tr>\n",
       "      <th>387936</th>\n",
       "      <td>2</td>\n",
       "      <td>1</td>\n",
       "      <td>0</td>\n",
       "      <td>25</td>\n",
       "      <td>3</td>\n",
       "      <td>10</td>\n",
       "      <td>25</td>\n",
       "      <td>10</td>\n",
       "      <td>3</td>\n",
       "      <td>7.129298</td>\n",
       "    </tr>\n",
       "    <tr>\n",
       "      <th>71052</th>\n",
       "      <td>2</td>\n",
       "      <td>1</td>\n",
       "      <td>0</td>\n",
       "      <td>26</td>\n",
       "      <td>1</td>\n",
       "      <td>7</td>\n",
       "      <td>26</td>\n",
       "      <td>7</td>\n",
       "      <td>1</td>\n",
       "      <td>4.488636</td>\n",
       "    </tr>\n",
       "  </tbody>\n",
       "</table>\n",
       "</div>"
      ],
      "text/plain": [
       "        vendor_id  passenger_count  store_and_fwd_flag  pickup_day  \\\n",
       "203420          2                1                   0          29   \n",
       "318505          2                2                   0           2   \n",
       "190735          2                5                   0           2   \n",
       "387936          2                1                   0          25   \n",
       "71052           2                1                   0          26   \n",
       "\n",
       "        pickup_day_of_week  pickup_hour_of_day  dropoff_day  \\\n",
       "203420                   1                  15           29   \n",
       "318505                   2                  12            2   \n",
       "190735                   5                  19            2   \n",
       "387936                   3                  10           25   \n",
       "71052                    1                   7           26   \n",
       "\n",
       "        dropoff_hour_of_day  dropoff_day_of_week  log_trip_duration  \n",
       "203420                   15                    1           6.115892  \n",
       "318505                   12                    2           6.720220  \n",
       "190735                   19                    5           7.681099  \n",
       "387936                   10                    3           7.129298  \n",
       "71052                     7                    1           4.488636  "
      ]
     },
     "execution_count": 30,
     "metadata": {},
     "output_type": "execute_result"
    }
   ],
   "source": [
    "bench_train.head()"
   ]
  },
  {
   "cell_type": "code",
   "execution_count": 31,
   "id": "fe7a798d",
   "metadata": {},
   "outputs": [
    {
     "data": {
      "text/html": [
       "<div>\n",
       "<style scoped>\n",
       "    .dataframe tbody tr th:only-of-type {\n",
       "        vertical-align: middle;\n",
       "    }\n",
       "\n",
       "    .dataframe tbody tr th {\n",
       "        vertical-align: top;\n",
       "    }\n",
       "\n",
       "    .dataframe thead th {\n",
       "        text-align: right;\n",
       "    }\n",
       "</style>\n",
       "<table border=\"1\" class=\"dataframe\">\n",
       "  <thead>\n",
       "    <tr style=\"text-align: right;\">\n",
       "      <th></th>\n",
       "      <th>vendor_id</th>\n",
       "      <th>passenger_count</th>\n",
       "      <th>store_and_fwd_flag</th>\n",
       "      <th>pickup_day</th>\n",
       "      <th>pickup_day_of_week</th>\n",
       "      <th>pickup_hour_of_day</th>\n",
       "      <th>dropoff_day</th>\n",
       "      <th>dropoff_hour_of_day</th>\n",
       "      <th>dropoff_day_of_week</th>\n",
       "      <th>log_trip_duration</th>\n",
       "    </tr>\n",
       "  </thead>\n",
       "  <tbody>\n",
       "    <tr>\n",
       "      <th>343319</th>\n",
       "      <td>1</td>\n",
       "      <td>1</td>\n",
       "      <td>0</td>\n",
       "      <td>3</td>\n",
       "      <td>1</td>\n",
       "      <td>6</td>\n",
       "      <td>3</td>\n",
       "      <td>6</td>\n",
       "      <td>1</td>\n",
       "      <td>7.064759</td>\n",
       "    </tr>\n",
       "    <tr>\n",
       "      <th>719526</th>\n",
       "      <td>1</td>\n",
       "      <td>1</td>\n",
       "      <td>0</td>\n",
       "      <td>14</td>\n",
       "      <td>5</td>\n",
       "      <td>19</td>\n",
       "      <td>14</td>\n",
       "      <td>19</td>\n",
       "      <td>5</td>\n",
       "      <td>5.924256</td>\n",
       "    </tr>\n",
       "    <tr>\n",
       "      <th>358943</th>\n",
       "      <td>1</td>\n",
       "      <td>1</td>\n",
       "      <td>0</td>\n",
       "      <td>22</td>\n",
       "      <td>6</td>\n",
       "      <td>2</td>\n",
       "      <td>22</td>\n",
       "      <td>2</td>\n",
       "      <td>6</td>\n",
       "      <td>6.270988</td>\n",
       "    </tr>\n",
       "    <tr>\n",
       "      <th>316420</th>\n",
       "      <td>2</td>\n",
       "      <td>1</td>\n",
       "      <td>0</td>\n",
       "      <td>9</td>\n",
       "      <td>3</td>\n",
       "      <td>6</td>\n",
       "      <td>9</td>\n",
       "      <td>6</td>\n",
       "      <td>3</td>\n",
       "      <td>7.267525</td>\n",
       "    </tr>\n",
       "    <tr>\n",
       "      <th>485918</th>\n",
       "      <td>2</td>\n",
       "      <td>1</td>\n",
       "      <td>0</td>\n",
       "      <td>6</td>\n",
       "      <td>4</td>\n",
       "      <td>14</td>\n",
       "      <td>6</td>\n",
       "      <td>14</td>\n",
       "      <td>4</td>\n",
       "      <td>5.187386</td>\n",
       "    </tr>\n",
       "  </tbody>\n",
       "</table>\n",
       "</div>"
      ],
      "text/plain": [
       "        vendor_id  passenger_count  store_and_fwd_flag  pickup_day  \\\n",
       "343319          1                1                   0           3   \n",
       "719526          1                1                   0          14   \n",
       "358943          1                1                   0          22   \n",
       "316420          2                1                   0           9   \n",
       "485918          2                1                   0           6   \n",
       "\n",
       "        pickup_day_of_week  pickup_hour_of_day  dropoff_day  \\\n",
       "343319                   1                   6            3   \n",
       "719526                   5                  19           14   \n",
       "358943                   6                   2           22   \n",
       "316420                   3                   6            9   \n",
       "485918                   4                  14            6   \n",
       "\n",
       "        dropoff_hour_of_day  dropoff_day_of_week  log_trip_duration  \n",
       "343319                    6                    1           7.064759  \n",
       "719526                   19                    5           5.924256  \n",
       "358943                    2                    6           6.270988  \n",
       "316420                    6                    3           7.267525  \n",
       "485918                   14                    4           5.187386  "
      ]
     },
     "execution_count": 31,
     "metadata": {},
     "output_type": "execute_result"
    }
   ],
   "source": [
    "bench_test.head()"
   ]
  },
  {
   "cell_type": "code",
   "execution_count": 32,
   "id": "2772548a",
   "metadata": {},
   "outputs": [],
   "source": [
    "# storing simple mean in a new column in the test set as \"simple_mean\"\n",
    "bench_test['simple_mean'] = bench_train['log_trip_duration'].mean()"
   ]
  },
  {
   "cell_type": "code",
   "execution_count": 33,
   "id": "d2386a68",
   "metadata": {},
   "outputs": [
    {
     "name": "stdout",
     "output_type": "stream",
     "text": [
      "benchmark model error is :  0.7935327074812147\n"
     ]
    }
   ],
   "source": [
    "# error in simple mean model\n",
    "\n",
    "from sklearn.metrics import mean_squared_error\n",
    "\n",
    "error = sqrt(mean_squared_error(bench_test['log_trip_duration'], bench_test['simple_mean']))\n",
    "\n",
    "print(\"benchmark model error is : \", error)"
   ]
  },
  {
   "cell_type": "markdown",
   "id": "fb061214",
   "metadata": {},
   "source": [
    "# K - NEAREST NEIGHBOURS MODEL"
   ]
  },
  {
   "cell_type": "code",
   "execution_count": 34,
   "id": "838fed69",
   "metadata": {},
   "outputs": [
    {
     "data": {
      "text/plain": [
       "KNeighborsRegressor(n_neighbors=4)"
      ]
     },
     "execution_count": 34,
     "metadata": {},
     "output_type": "execute_result"
    }
   ],
   "source": [
    "knnr = KNeighborsRegressor(n_neighbors=4)\n",
    "knnr.fit(x_train, y_train)"
   ]
  },
  {
   "cell_type": "code",
   "execution_count": 35,
   "id": "bcde260e",
   "metadata": {},
   "outputs": [
    {
     "name": "stdout",
     "output_type": "stream",
     "text": [
      "RMSE of knn model:  0.8121177727098159\n"
     ]
    }
   ],
   "source": [
    "y_pred = knnr.predict(x_test)\n",
    "\n",
    "error = sqrt(mean_squared_error(y_test, y_pred))\n",
    "\n",
    "print(\"RMSE of knn model: \", error)"
   ]
  },
  {
   "cell_type": "markdown",
   "id": "68422258",
   "metadata": {},
   "source": [
    "# Finding the value of k using elbow method"
   ]
  },
  {
   "cell_type": "code",
   "execution_count": 36,
   "id": "707acbe5",
   "metadata": {},
   "outputs": [],
   "source": [
    "k = range(1, 10)"
   ]
  },
  {
   "cell_type": "code",
   "execution_count": 37,
   "id": "b0553e1f",
   "metadata": {},
   "outputs": [],
   "source": [
    "def elbow(k):\n",
    "  #initiating empty list\n",
    "  test = []\n",
    "\n",
    "  #training model for evey value of K  \n",
    "  for i in k:\n",
    "    reg = KNeighborsRegressor(n_neighbors=i)\n",
    "    reg.fit(x_train, y_train)\n",
    "\n",
    "    temp_pred = reg.predict(x_test)\n",
    "    temp_error = sqrt(mean_squared_error(temp_pred, y_test))\n",
    "    test.append(temp_error)\n",
    "\n",
    "  return test"
   ]
  },
  {
   "cell_type": "code",
   "execution_count": 38,
   "id": "be9054c0",
   "metadata": {},
   "outputs": [],
   "source": [
    "test = elbow(k)"
   ]
  },
  {
   "cell_type": "code",
   "execution_count": 39,
   "id": "4b1e05bc",
   "metadata": {},
   "outputs": [
    {
     "data": {
      "text/plain": [
       "Text(0.5, 1.0, 'Elbow curve for test')"
      ]
     },
     "execution_count": 39,
     "metadata": {},
     "output_type": "execute_result"
    },
    {
     "data": {
      "image/png": "[encoded data removed]",
      "text/plain": [
       "<Figure size 640x480 with 1 Axes>"
      ]
     },
     "metadata": {},
     "output_type": "display_data"
    }
   ],
   "source": [
    "# plotting the curve\n",
    "\n",
    "plt.plot(k, test)\n",
    "plt.xlabel('K Neighbors')\n",
    "plt.ylabel('RMSE')\n",
    "plt.title('Elbow curve for test')\n",
    " "
   ]
  },
  {
   "cell_type": "code",
   "execution_count": 40,
   "id": "bc1f6b64",
   "metadata": {},
   "outputs": [
    {
     "data": {
      "text/plain": [
       "KNeighborsRegressor()"
      ]
     },
     "execution_count": 40,
     "metadata": {},
     "output_type": "execute_result"
    }
   ],
   "source": [
    "knnr = KNeighborsRegressor(n_neighbors=5)\n",
    "knnr.fit(x_train, y_train)"
   ]
  },
  {
   "cell_type": "markdown",
   "id": "21ebe692",
   "metadata": {},
   "source": [
    "### test score of knn model"
   ]
  },
  {
   "cell_type": "code",
   "execution_count": 41,
   "id": "c711e699",
   "metadata": {},
   "outputs": [
    {
     "name": "stdout",
     "output_type": "stream",
     "text": [
      "RMSE of knn model:  0.7984163709051925\n"
     ]
    }
   ],
   "source": [
    "y_pred = knnr.predict(x_test)\n",
    "\n",
    "knn_test_rmse = sqrt(mean_squared_error(y_test, y_pred))\n",
    "\n",
    "print(\"RMSE of knn model: \", knn_test_rmse)"
   ]
  },
  {
   "cell_type": "markdown",
   "id": "a46d4580",
   "metadata": {},
   "source": [
    "### train score of knn model"
   ]
  },
  {
   "cell_type": "code",
   "execution_count": 42,
   "id": "8b1caf91",
   "metadata": {},
   "outputs": [
    {
     "name": "stdout",
     "output_type": "stream",
     "text": [
      "RMSE of knn model:  0.7477783003168744\n"
     ]
    }
   ],
   "source": [
    "y_pred = knnr.predict(x_train)\n",
    "\n",
    "knn_train_rmse = sqrt(mean_squared_error(y_train, y_pred))\n",
    "\n",
    "print(\"RMSE of knn model: \", knn_train_rmse)"
   ]
  },
  {
   "cell_type": "markdown",
   "id": "8cd95d4a",
   "metadata": {},
   "source": [
    "best value of k is 5"
   ]
  },
  {
   "cell_type": "markdown",
   "id": "3db7cfb0",
   "metadata": {},
   "source": [
    "# 4.Linear Regression model"
   ]
  },
  {
   "cell_type": "code",
   "execution_count": 43,
   "id": "3646b7ff",
   "metadata": {},
   "outputs": [
    {
     "data": {
      "text/plain": [
       "LinearRegression()"
      ]
     },
     "execution_count": 43,
     "metadata": {},
     "output_type": "execute_result"
    }
   ],
   "source": [
    "lr = LinearRegression()\n",
    "lr.fit(x_train, y_train)"
   ]
  },
  {
   "cell_type": "markdown",
   "id": "6a4e46c1",
   "metadata": {},
   "source": [
    "### testing RMSE"
   ]
  },
  {
   "cell_type": "code",
   "execution_count": 44,
   "id": "c530e81a",
   "metadata": {},
   "outputs": [
    {
     "name": "stdout",
     "output_type": "stream",
     "text": [
      "RMSE of linear regressor model:  0.792053265369792\n"
     ]
    }
   ],
   "source": [
    "y_pred = lr.predict(x_test)\n",
    "\n",
    "lm_test_rmse = sqrt(mean_squared_error(y_test, y_pred))\n",
    "print(\"RMSE of linear regressor model: \", lm_test_rmse)"
   ]
  },
  {
   "cell_type": "markdown",
   "id": "99630cb8",
   "metadata": {},
   "source": [
    "### training RMSE"
   ]
  },
  {
   "cell_type": "code",
   "execution_count": 45,
   "id": "787a5051",
   "metadata": {},
   "outputs": [
    {
     "name": "stdout",
     "output_type": "stream",
     "text": [
      "RMSE of linear regressor model:  0.7934012054123708\n"
     ]
    }
   ],
   "source": [
    "y_pred = lr.predict(x_train)\n",
    "\n",
    "lm_train_rmse = sqrt(mean_squared_error(y_train, y_pred))\n",
    "\n",
    "print(\"RMSE of linear regressor model: \", lm_train_rmse)"
   ]
  },
  {
   "cell_type": "markdown",
   "id": "35b29ded",
   "metadata": {},
   "source": [
    "# Decision Tree model"
   ]
  },
  {
   "cell_type": "code",
   "execution_count": 46,
   "id": "4318e573",
   "metadata": {},
   "outputs": [
    {
     "data": {
      "text/plain": [
       "DecisionTreeRegressor(random_state=42)"
      ]
     },
     "execution_count": 46,
     "metadata": {},
     "output_type": "execute_result"
    }
   ],
   "source": [
    "dtr = DecisionTreeRegressor(random_state=42)\n",
    "dtr.fit(x_train, y_train)"
   ]
  },
  {
   "cell_type": "markdown",
   "id": "027d11c0",
   "metadata": {},
   "source": [
    "### testing RMSE"
   ]
  },
  {
   "cell_type": "code",
   "execution_count": 47,
   "id": "672b03e6",
   "metadata": {},
   "outputs": [
    {
     "name": "stdout",
     "output_type": "stream",
     "text": [
      "RMSE of decision tree regressor model:  0.7562614466291371\n"
     ]
    }
   ],
   "source": [
    "y_pred = dtr.predict(x_test)\n",
    "\n",
    "dtr_test_rmse = sqrt(mean_squared_error(y_test, y_pred))\n",
    "print(\"RMSE of decision tree regressor model: \", dtr_test_rmse)"
   ]
  },
  {
   "cell_type": "markdown",
   "id": "52326716",
   "metadata": {},
   "source": [
    "### training RMSE"
   ]
  },
  {
   "cell_type": "code",
   "execution_count": 48,
   "id": "226c1a17",
   "metadata": {},
   "outputs": [
    {
     "name": "stdout",
     "output_type": "stream",
     "text": [
      "RMSE of decision tree regressor model:  0.6723558853055338\n"
     ]
    }
   ],
   "source": [
    "y_pred = dtr.predict(x_train)\n",
    "\n",
    "dtr_train_rmse = sqrt(mean_squared_error(y_train, y_pred))\n",
    "\n",
    "print(\"RMSE of decision tree regressor model: \", dtr_train_rmse)"
   ]
  },
  {
   "cell_type": "markdown",
   "id": "0905e679",
   "metadata": {},
   "source": [
    "## bar plots"
   ]
  },
  {
   "cell_type": "code",
   "execution_count": 49,
   "id": "764bb3e6",
   "metadata": {},
   "outputs": [
    {
     "data": {
      "image/png": "[encoded data removed]",
      "text/plain": [
       "<Figure size 1000x500 with 1 Axes>"
      ]
     },
     "metadata": {},
     "output_type": "display_data"
    }
   ],
   "source": [
    "plt.figure(figsize=[10, 5])\n",
    "\n",
    "train_scores = [0.747, 0.793, 0.672]\n",
    "test_scores = [0.798, 0.792, 0.756]\n",
    "\n",
    "# Passing the parameters to the bar function\n",
    "# Using X now to align the bars side by side\n",
    "X = np.arange(len(train_scores))\n",
    "\n",
    "\n",
    "# Passing the parameters to the bar function, this is the main function which creates the bar plot\n",
    "# Using X now to align the bars side by side\n",
    "plt.bar(X, train_scores,  width = 0.25)\n",
    "plt.bar(X + 0.25, test_scores, width = 0.25)\n",
    "\n",
    "# Creating the legend of the bars in the plot\n",
    "plt.legend(['Train Score', 'Test Score'])\n",
    "\n",
    "labels = ['KNN Model', 'Linear Model', 'Decision Tree Model']\n",
    "\n",
    "# Overiding the x axis with the country names\n",
    "plt.xticks([i + 0.25 for i in range(3)], labels)\n",
    "\n",
    "plt.title(\"Bar plot representing the train score and test RMSE score of each model\")\n",
    "plt.xlabel('RMSE score')\n",
    "plt.ylabel('Models')\n",
    "\n",
    "\n",
    "# Displaying the bar plot\n",
    "plt.show()"
   ]
  },
  {
   "cell_type": "code",
   "execution_count": null,
   "id": "c33657b2",
   "metadata": {},
   "outputs": [],
   "source": []
  },
  {
   "cell_type": "code",
   "execution_count": null,
   "id": "8699d023",
   "metadata": {},
   "outputs": [],
   "source": []
  }
 ],
 "metadata": {
  "kernelspec": {
   "display_name": "Python 3 (ipykernel)",
   "language": "python",
   "name": "python3"
  },
  "language_info": {
   "codemirror_mode": {
    "name": "ipython",
    "version": 3
   },
   "file_extension": ".py",
   "mimetype": "text/x-python",
   "name": "python",
   "nbconvert_exporter": "python",
   "pygments_lexer": "ipython3",
   "version": "3.9.13"
  }
 },
 "nbformat": 4,
 "nbformat_minor": 5
}
